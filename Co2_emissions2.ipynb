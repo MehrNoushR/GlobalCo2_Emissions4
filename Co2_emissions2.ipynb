{
  "nbformat": 4,
  "nbformat_minor": 0,
  "metadata": {
    "colab": {
      "provenance": [],
      "authorship_tag": "ABX9TyNDL3Ns1oEXFL81fVqb1YLP",
      "include_colab_link": true
    },
    "kernelspec": {
      "name": "python3",
      "display_name": "Python 3"
    },
    "language_info": {
      "name": "python"
    }
  },
  "cells": [
    {
      "cell_type": "markdown",
      "metadata": {
        "id": "view-in-github",
        "colab_type": "text"
      },
      "source": [
        "<a href=\"https://colab.research.google.com/github/MehrNoushR/GlobalCo2_Emissions4/blob/main/Co2_emissions2.ipynb\" target=\"_parent\"><img src=\"https://colab.research.google.com/assets/colab-badge.svg\" alt=\"Open In Colab\"/></a>"
      ]
    },
    {
      "cell_type": "code",
      "source": [
        "import pandas as pd\n",
        "import matplotlib.pyplot as plt\n",
        "%matplotlib inline\n",
        "import warnings\n",
        "warnings.filterwarnings(\"ignore\")"
      ],
      "metadata": {
        "id": "_kAIcI_KwNEd"
      },
      "execution_count": null,
      "outputs": []
    },
    {
      "cell_type": "code",
      "source": [
        "# Load the dataset\n",
        "df = pd.read_csv('co2_emissions.csv' , header=[0, 1])\n",
        "\n",
        "# Display the first few rows to inspect its structure\n",
        "df.head()"
      ],
      "metadata": {
        "id": "yawIBaNqwn9X"
      },
      "execution_count": null,
      "outputs": []
    },
    {
      "cell_type": "code",
      "source": [
        "# Rename columns\n",
        "df.columns = [' '.join(col).strip() for col in df.columns.values]\n",
        "\n",
        "# Display the first few rows after renaming\n",
        "df.head()\n"
      ],
      "metadata": {
        "id": "mj_3FinozAdf"
      },
      "execution_count": null,
      "outputs": []
    },
    {
      "cell_type": "code",
      "source": [
        "# Rename columns to appropriate labels\n",
        "corrected_columns = {\n",
        "    'Country World' : ' Country' ,\n",
        "    '1990 22674.120' : '1990' ,\n",
        "    '2005 30049.810' : '2005' ,\n",
        "    '2017 37077.400' : '2017' ,\n",
        "    '2021 37857.580' : '2021'\n",
        "}\n",
        "df.rename(columns=corrected_columns, inplace=True)\n",
        "\n",
        "# Remove non-country rows\n",
        "# We can identify non-country rows\n",
        "# by checking if the \"Country\" name contains \"World\"\n",
        "df_countries = df[~df['Country'].str.contains(\"World\")]\n",
        "\n",
        "# Display the cleaned dataframe\n",
        "df_countries.head()\n"
      ],
      "metadata": {
        "id": "IcA-eJnJz1qJ"
      },
      "execution_count": null,
      "outputs": []
    },
    {
      "cell_type": "markdown",
      "source": [
        "For Graph 1 (CO2 emissions of the top 2 CO2 producers):\n",
        "\n",
        "*   We will first sort countries based on their latest CO2 emission data (2021).\n",
        "\n",
        "*   Then, selecting the top 5 en finally, plot their CO2 emissions for the years\n",
        "1990, 2005, 2017 and 2021.\n",
        "\n",
        "\n",
        "\n"
      ],
      "metadata": {
        "id": "ibyy0xJ53Dzi"
      }
    },
    {
      "cell_type": "code",
      "source": [
        "# Sort the dataframe based on 2021 CO2 emissions and select the top 5 countries\n",
        "top5_2021 = df_countries.sort_values(by='2021', ascending=False).head(5)"
      ],
      "metadata": {
        "id": "-LNL36df4O-8"
      },
      "execution_count": null,
      "outputs": []
    },
    {
      "cell_type": "code",
      "source": [
        "top5_2021"
      ],
      "metadata": {
        "id": "VUa-qNoT5LW9"
      },
      "execution_count": null,
      "outputs": []
    },
    {
      "cell_type": "code",
      "source": [
        "# Plot their CO2 emissions for the specified years\n",
        "plt.figure(figsize=(10, 5))\n",
        "for index, row in top5_2021.iterrows():\n",
        "  plt.plot(['1990', '2005', '2017' ,'2021'],\n",
        "  row[['1990', '2005', '2017', '2021']],\n",
        "  label=row['Country'], marker='o')\n",
        "\n",
        "  plt.title(\"Top 5 CO2 Producers (1990, 2005, 2017, 2021)\")\n",
        "  plt.xlabel(\"Year\")\n",
        "  plt.ylabel(\"Fossil CO2 Emissions (Mt CO2)\")\n",
        "  plt.legend()\n",
        "  plt.grid(True, which=\"both\" , Is=\"- -\", c='0.7')\n",
        "  plt.tight_layout()\n",
        "  plt.show()"
      ],
      "metadata": {
        "id": "yDVrd0hG5UrR"
      },
      "execution_count": null,
      "outputs": []
    },
    {
      "cell_type": "markdown",
      "source": [
        "Graph 2: Calculated the relative change in emissions and plot the results for the top three and bottom three countries."
      ],
      "metadata": {
        "id": "Lsj6paXt9q6M"
      }
    },
    {
      "cell_type": "code",
      "source": [
        "# Calculate the relative change for each year based on the 1990 emissions\n",
        "df_countries['rel_2005'] = (df_countries['2005'] / df_countries['1990']) * 100\n",
        "df_countries['rel_2017'] = (df_countries['2017'] / df_countries['1990']) * 100\n",
        "df_countries['rel_2021'] = (df_countries['2021']/ df_countries['1990']) * 100"
      ],
      "metadata": {
        "id": "1f642ofV-T0h"
      },
      "execution_count": null,
      "outputs": []
    },
    {
      "cell_type": "code",
      "source": [
        "# Calculate countries based on the overall change from 1990 to 2021\n",
        "df_countries['overall_change'] = df_countries['rel_2021'] - 100"
      ],
      "metadata": {
        "id": "bTsvpImSBV3d"
      },
      "execution_count": null,
      "outputs": []
    },
    {
      "cell_type": "code",
      "source": [
        "# Sort countries based on the overall change\n",
        "sorted_countries= df_countries.sort_values(by='overall_change', ascending=False)"
      ],
      "metadata": {
        "id": "veUe0gZbCp-R"
      },
      "execution_count": null,
      "outputs": []
    },
    {
      "cell_type": "code",
      "source": [
        "# Select top 3 and bottom 3 countries\n",
        "top3_changers = sorted_countries.head(3)\n",
        "bottom3_changers = sorted_countries.tail(3)"
      ],
      "metadata": {
        "id": "Z2Irt6ukDkQ5"
      },
      "execution_count": null,
      "outputs": []
    },
    {
      "cell_type": "code",
      "source": [
        "top3_changers, bottom3_changers"
      ],
      "metadata": {
        "id": "0VRGi1_eEGir"
      },
      "execution_count": null,
      "outputs": []
    },
    {
      "cell_type": "code",
      "source": [
        "# Plot for top 3 changers\n",
        "plt.figure(figsize=(10,5))\n",
        "for index, row in top3_changers.iterrows()\n",
        "plt.plot(['1990', '2005', '2017','2021'], [100, row['rel_2005'], row['rel_2017'], row['rel_2021']],\n",
        "         label=row['Country'], marker='o')\n",
        "plt.axhline(100, color='grey', linestyle='- -', label=\"100% (1990 Level)\")\n",
        "plt.title(\"Top 3 Countries by Relative CO2 Emission Change\")\n",
        "plt.xlabel(\"Year\")\n",
        "plt.ylabel(\"Relative CO2 Emissions (%)\")\n",
        "plt.legend()\n",
        "# plt.grid(True, which=\"both\", Is=\"- -\", c='0.7')\n",
        "plt.tight_layout()\n",
        "plt.show()"
      ],
      "metadata": {
        "id": "z06-mpX0Z6FQ"
      },
      "execution_count": null,
      "outputs": []
    },
    {
      "cell_type": "code",
      "source": [
        "# Plot for bottom 3 changers\n",
        "for index, row in bottom3_changers.iterrows():\n",
        "  plt.plt(['1990', '2005', '2017', '2021'], [100,row['rel_2005'], row['rel_2017'], row['rel_2021']],\n",
        "  label=row['Country'], marker='o')\n",
        "\n",
        "  plt.axhline(100, color='grey', linestyle='- -', label=\"100% (1990 Level)\")\n",
        "  plt.title(\"Bottom 3 Countries by Relative CO2 Emission Change\")\n",
        "  plt.xlable(\"Year\")\n",
        "  plt.ylable(\"Relative CO2 Emissions (%)\")\n",
        "  plt.legend()\n",
        "  plt.grid(True, which=\"both\", Is=\"- -\", c='0.7')\n",
        "  plt.tight_layout()\n",
        "  plt.show()\n"
      ],
      "metadata": {
        "id": "SzDSRV6tVjfg"
      },
      "execution_count": null,
      "outputs": []
    },
    {
      "cell_type": "markdown",
      "source": [
        "Further refine Graph 2 for countries with emissions of at least five Mt in 1990"
      ],
      "metadata": {
        "id": "P5AiVgpddEfb"
      }
    },
    {
      "cell_type": "code",
      "source": [
        "# Filter countries with at least 5 Mt of CO2 emissions in 1990\n",
        "filtered_countries = df_countries[df_countries['1990'] >=5]\n",
        "\n",
        "# Sort these countries based on the overall relative change\n",
        "sorted_filtered_countries = filtered_countries.sort_values(by='overall_change', ascending=False)"
      ],
      "metadata": {
        "id": "jjh7vTp_dVWc"
      },
      "execution_count": null,
      "outputs": []
    },
    {
      "cell_type": "code",
      "source": [
        "# Select top 3 and bottom 3 countries from the filtered list\n",
        "top3_filtered_changers = sorted_filtered_countries.head(3)\n",
        "bottom3_filtered_changers = sorted_filtered_countries.tail(3)"
      ],
      "metadata": {
        "id": "YxJns1uee250"
      },
      "execution_count": null,
      "outputs": []
    },
    {
      "cell_type": "code",
      "source": [
        "# Plot for top 3 changers\n",
        "for index, row in top3_filtered_changers.iterrows()\n",
        "    plt.plot(['1990','2005','2017','2021'], [100, row['rel_2005'],\n",
        "                                                      row['rel_2017'],\n",
        "                                             row['rel_2021']],\n",
        "             label=row['Country'], marker='o')\n",
        "    plt.axhline(100, color='grey', linestyle='- -', label=\"100% (1990 Level)\")\n",
        "    plt.title(\"Top 3 Countries (with >=5 Mt in 1990) by Relative CO2 Emission Change\")\n",
        "    plt.xlabel(\"Year\")\n",
        "    plt.ylabel(\"Relative CO2 Emissions (%)\")\n",
        "    plt.legend()\n",
        "    plt.grid(True, which=\"both\", Is=\"- -\", c='0.7')\n",
        "    plt.tight_layout()\n",
        "    plt.show()"
      ],
      "metadata": {
        "id": "GWV_QT17d88F"
      },
      "execution_count": null,
      "outputs": []
    },
    {
      "cell_type": "code",
      "source": [
        "# Plot for bottom 3 changers\n",
        "for index, row in bottom3_filtered_changers.iterrows():\n",
        "  plt.plot(['1990', '2005', '2017', '2021'], [100, row['rel_2005'], row['rel_2017'],\n",
        "                                              row['rel_2021']], label=row['Country'], market='o')\n",
        "  plt.axhline(100, color='grey', linestyle='- - ', label=\"100% (1990 Level)\")\n",
        "  plt.title(\"Bottom 3 Countries (with >=5 Mt in 1990) by Relative CO2 Emission Change\")\n",
        "  plt.xlabel(\"Year\")\n",
        "  plt.ylabel(\"Relative CO2 Emissions (%)\")\n",
        "  plt.legend()\n",
        "  plt.grid(True, which=\"both\", Is=\"- -\", c='0.7')\n",
        "  plt.tight_layout()\n",
        "  plt.show()"
      ],
      "metadata": {
        "id": "5u11eg1Hil7e"
      },
      "execution_count": null,
      "outputs": []
    }
  ]
}